{
 "cells": [
  {
   "cell_type": "code",
   "execution_count": 18,
   "id": "c5843a95",
   "metadata": {
    "ExecuteTime": {
     "end_time": "2025-07-28T13:45:15.910196Z",
     "start_time": "2025-07-28T13:45:15.903351Z"
    }
   },
   "outputs": [],
   "source": [
    "from neo4j import GraphDatabase, RoutingControl\n",
    "import neo4j\n",
    "from dotenv import load_dotenv\n",
    "import os\n",
    "import pandas as pd\n",
    "# from neomodel import clear_neo4j_database, db\n",
    "# import neomodel\n",
    "import json\n",
    "import csv"
   ]
  },
  {
   "cell_type": "markdown",
   "id": "32ef6443",
   "metadata": {},
   "source": []
  },
  {
   "cell_type": "code",
   "execution_count": 19,
   "id": "387967e2",
   "metadata": {
    "ExecuteTime": {
     "end_time": "2025-07-28T13:45:15.928869Z",
     "start_time": "2025-07-28T13:45:15.922264Z"
    }
   },
   "outputs": [],
   "source": [
    "load_dotenv()\n",
    "uri = \"bolt://localhost:7687\"\n",
    "driver = GraphDatabase.driver(uri, auth=(os.getenv(\"USERNAME\"), os.getenv(\"PASSWORD\")))"
   ]
  },
  {
   "cell_type": "markdown",
   "id": "99194e66",
   "metadata": {},
   "source": [
    "Create patients"
   ]
  },
  {
   "cell_type": "code",
   "execution_count": 20,
   "id": "03323c61",
   "metadata": {
    "ExecuteTime": {
     "end_time": "2025-07-28T13:45:16.111340Z",
     "start_time": "2025-07-28T13:45:15.948335Z"
    }
   },
   "outputs": [
    {
     "name": "stdout",
     "output_type": "stream",
     "text": [
      "1283\n"
     ]
    }
   ],
   "source": [
    "base_path = \"/Users/gianluca/github/synthea/output/synthea_\"\n",
    "num = 1000\n",
    "path = f\"{base_path}{num}/csv\"\n",
    "patients_df = pd.read_csv(f\"{path}/patients.csv\")\n",
    "print(len(patients_df))\n",
    "patients_df.to_csv(f\"/Users/gianluca/neo4j-enterprise-5.26.12/import/synthea/patients_{num}.csv\")\n"
   ]
  },
  {
   "cell_type": "code",
   "execution_count": 21,
   "id": "0640bf97",
   "metadata": {
    "ExecuteTime": {
     "end_time": "2025-07-28T13:45:50.073079Z",
     "start_time": "2025-07-28T13:45:17.319230Z"
    }
   },
   "outputs": [],
   "source": [
    "\n",
    "observation_df = pd.read_csv(f\"{path}/observations.csv\")\n",
    "cols = [\"Body Height\",\"Body mass index (BMI) [Ratio]\",\"Respiratory rate\", \"Heart rate\", \"Body Weight\"]\n",
    "file_names = [\"bodyHeight\", \"bmi\", \"respiratoryRate\", \"heartRate\", \"bodyWeight\"]\n",
    "# Build a dictionary: patient_id -> {file1_timestamps, file1_values, ...}\n",
    "patient_data = {}\n",
    "for file, value in zip(file_names, cols):\n",
    "    temp_df = observation_df[['DATE', 'PATIENT', 'DESCRIPTION', 'VALUE']].loc[observation_df['DESCRIPTION'] == value]\n",
    "    grouped = temp_df.groupby('PATIENT')\n",
    "    for patient, group in grouped:\n",
    "        timestamps = group['DATE'].tolist()\n",
    "        values = [float(v) for v in group['VALUE'].tolist()]\n",
    "        if patient not in patient_data:\n",
    "            patient_data[patient] = {}\n",
    "        patient_data[patient][f'{file}_timestamps'] = json.dumps(timestamps)\n",
    "        patient_data[patient][f'{file}_values'] = json.dumps(values)\n",
    "# Prepare headers\n",
    "headers = ['patient']\n",
    "for file in file_names:\n",
    "    headers.append(f'{file}_timestamps')\n",
    "    headers.append(f'{file}_values')\n",
    "# Write to a single CSV\n",
    "with open(f'/Users/gianluca/neo4j-enterprise-5.26.12/import/synthea/timeseries_{num}.csv', 'w', newline='') as csvfile:\n",
    "    writer = csv.DictWriter(csvfile, fieldnames=headers)\n",
    "    writer.writeheader()\n",
    "    for patient, pdata in patient_data.items():\n",
    "        row = {'patient': patient}\n",
    "        for file in file_names:\n",
    "            row[f'{file}_timestamps'] = pdata.get(f'{file}_timestamps', json.dumps([]))\n",
    "            row[f'{file}_values'] = pdata.get(f'{file}_values', json.dumps([]))\n",
    "        writer.writerow(row)\n"
   ]
  }
 ],
 "metadata": {
  "kernelspec": {
   "display_name": ".venv",
   "language": "python",
   "name": "python3"
  },
  "language_info": {
   "codemirror_mode": {
    "name": "ipython",
    "version": 3
   },
   "file_extension": ".py",
   "mimetype": "text/x-python",
   "name": "python",
   "nbconvert_exporter": "python",
   "pygments_lexer": "ipython3",
   "version": "3.9.6"
  }
 },
 "nbformat": 4,
 "nbformat_minor": 5
}
