{
 "cells": [
  {
   "cell_type": "code",
   "execution_count": 348,
   "id": "18c85c53",
   "metadata": {},
   "outputs": [],
   "source": [
    "import neo4j\n",
    "from neo4j import GraphDatabase, RoutingControl\n",
    "from dotenv import load_dotenv\n",
    "import os\n",
    "import pandas as pd\n",
    "from balance_generation import simulate_balance_by_account_level\n",
    "from interest_rate_generation import simulate_interest_rate\n",
    "from shutil import copy"
   ]
  },
  {
   "cell_type": "code",
   "execution_count": 349,
   "id": "1f3c3f2e",
   "metadata": {},
   "outputs": [],
   "source": [
    "load_dotenv()\n",
    "uri = \"neo4j://localhost:7687\"\n",
    "user = os.getenv(\"USERNAME\")\n",
    "pwd = os.getenv(\"PASSWORD\")\n",
    "\n",
    "\n",
    "\n",
    "driver = neo4j.GraphDatabase.driver(uri, auth=(user, pwd))\n"
   ]
  },
  {
   "cell_type": "code",
   "execution_count": 361,
   "id": "c24a2582",
   "metadata": {},
   "outputs": [
    {
     "name": "stdout",
     "output_type": "stream",
     "text": [
      "10000\n"
     ]
    }
   ],
   "source": [
    "query = \"\"\"MATCH p=(a1:Account)-[:Transfer]->(a2:Account)\n",
    "RETURN DISTINCT a1.accountId as id, a1.accountLevel AS accountLevel, a1.createTime as createTime limit 10000\"\"\"\n",
    "records_df = driver.execute_query(query, database_  =\"neo4j\", routing_ = RoutingControl.READ, result_transformer_=neo4j.Result.to_df)\n",
    "print(len(records_df))"
   ]
  },
  {
   "cell_type": "code",
   "execution_count": 362,
   "id": "914208d4",
   "metadata": {},
   "outputs": [
    {
     "name": "stdout",
     "output_type": "stream",
     "text": [
      "10000\n"
     ]
    },
    {
     "data": {
      "text/plain": [
       "'/Users/gianluca/neo4j-enterprise-5.26.12/import/sf1/snapshot/account_balances.csv'"
      ]
     },
     "execution_count": 362,
     "metadata": {},
     "output_type": "execute_result"
    }
   ],
   "source": [
    "# Convert neo4j.time.DateTime to string first, then to datetime, then extract date\n",
    "records_df['createTime'] = pd.to_datetime(records_df['createTime'].astype(str)).dt.date\n",
    "\n",
    "\n",
    "if len(records_df) == 1871:\n",
    "    dataset = \"sf0.01\"\n",
    "elif len(records_df) == 4000:\n",
    "    dataset = \"sf0.1\"\n",
    "elif len(records_df) == 6000:\n",
    "    dataset = \"sf0.3\"\n",
    "elif len(records_df) == 10000:\n",
    "    dataset = \"sf1\"\n",
    "\n",
    "\n",
    "results = []\n",
    "for _, row in records_df.iterrows():\n",
    "    ts = simulate_balance_by_account_level(level=row['accountLevel'], start_date=row['createTime'])\n",
    "    # Extract timestamps and values as separate lists\n",
    "    timestamps = [item[0].strftime(\"%Y-%m-%dT%H:%M:%S\") if item[0].tzinfo else item[0].strftime(\"%Y-%m-%dT%H:%M:%S\") + \"+0000\" for item in ts]\n",
    "    \n",
    "    # Only convert to float if item[1] is a number, otherwise keep as is\n",
    "    values = [round(float(item[1]),3) if isinstance(item[1], (int, float)) else item[1] for item in ts]\n",
    "    results.append({\n",
    "        'id': row['id'],\n",
    "        'balance_timestamps': timestamps,\n",
    "        'balance_values': values\n",
    "    })\n",
    "\n",
    "# Convert results to DataFrame and write to CSV\n",
    "results_df = pd.DataFrame(results)\n",
    "results_df.to_csv('account_balances.csv', index=False)\n",
    "print(len(results_df))\n",
    "# Copy the CSV file to the desired location\n",
    "copy('account_balances.csv', f'/Users/gianluca/neo4j-enterprise-5.26.12/import/{dataset}/snapshot/account_balances.csv')"
   ]
  },
  {
   "cell_type": "code",
   "execution_count": 352,
   "id": "d0dc3949",
   "metadata": {},
   "outputs": [],
   "source": [
    "# query = \"\"\"\n",
    "# CALL apoc.periodic.iterate(\n",
    "#     'LOAD CSV WITH HEADERS FROM \"file:///sf1/snapshot/account_balances.csv\" AS row \n",
    "#         RETURN row',\n",
    "#     'MATCH (n:Account {accountId: toInteger(row.id)}) \n",
    "#      SET n.balance_timestamps = [ts IN apoc.convert.fromJsonList(row.balance_timestamps) | datetime(ts)], \n",
    "#          n.balance_values = [val IN apoc.convert.fromJsonList(row.balance_values) | toFloat(val)]',\n",
    "#     {batchSize:1000, parallel:true}\n",
    "# )\n",
    "# \"\"\"\n",
    "\n",
    "# driver.execute_query(query, database_=\"neo4j\", routing_=RoutingControl.WRITE)\n"
   ]
  },
  {
   "cell_type": "code",
   "execution_count": 353,
   "id": "70f5f492",
   "metadata": {},
   "outputs": [],
   "source": [
    "# # Create index on balance_timestamps and balance_values\n",
    "# query = \"CREATE INDEX IF NOT EXISTS FOR (a:Account) ON (a.balance_timestamps, a.balance_values)\"\n",
    "# driver.execute_query(query, database_=\"neo4j\", routing_=RoutingControl.WRITE)"
   ]
  },
  {
   "cell_type": "code",
   "execution_count": 354,
   "id": "718e5d84",
   "metadata": {},
   "outputs": [],
   "source": [
    "# with open(\"insert_balance.cypher\", \"w\") as f:\n",
    "#     results_df = pd.read_csv('account_balances.csv')\n",
    "#     for _, row in results_df.iterrows():\n",
    "#         id = row['id']\n",
    "#         timestamps = row['balance_timestamps']\n",
    "#         values = row['balance_values']\n",
    "#         cypher = (\n",
    "#             f\"\"\"WITH RANGE(0, SIZE({timestamps}) - 1) AS idx \\\n",
    "#             MATCH (n:Account {{accountId: {id}}}) \\\n",
    "#             WITH n, [i IN idx | DATETIME({timestamps}[i])] AS timestamps, \\\n",
    "#             [i IN idx | {values}[i]] AS values \\\n",
    "#             SET n.balance_timestamps = timestamps, n.balance_values = values;\"\"\"\n",
    "#         )\n",
    "#         # Prepare the parameters as string for documentation (not for Cypher execution)\n",
    "        \n",
    "#         f.write(f\"{cypher}\") \n"
   ]
  },
  {
   "cell_type": "code",
   "execution_count": 355,
   "id": "4a8f87a6",
   "metadata": {},
   "outputs": [],
   "source": [
    "# # Convert neo4j.time.DateTime to string first, then to datetime, then extract date\n",
    "\n",
    "\n",
    "\n",
    "# records_df['createTime'] = pd.to_datetime(records_df['createTime'].astype(str)).dt.date\n",
    "\n",
    "# # Prepare a list to collect results\n",
    "# results = []\n",
    "\n",
    "# for _, row in records_df.iterrows():\n",
    "#     ts = simulate_interest_rate(usage_type=row['loanUsage'], start_date=row['createTime'])\n",
    "#     # Extract timestamps and values as separate lists\n",
    "#     timestamps = [item[0].strftime(\"%Y-%m-%dT%H:%M:%S\") if item[0].tzinfo else item[0].strftime(\"%Y-%m-%dT%H:%M:%S\") + \"+0000\" for item in ts]\n",
    "#     values = [round(float(item[1]),3) for item in ts]\n",
    "#     results.append({\n",
    "#         'id': row['id'],\n",
    "#         'rate_timestamps': timestamps,\n",
    "#         'rate_values': values\n",
    "#     })\n",
    "\n",
    "# # Convert results to DataFrame and write to CSV\n",
    "# results_df = pd.DataFrame(results)\n",
    "# results_df.to_csv('loan_interest_rate.csv', index=False)\n",
    "# copy('loan_interest_rate.csv', '/Users/gianluca/neo4j-enterprise-5.26.10/import/sf1/snapshot/loan_interest_rate.csv')\n"
   ]
  },
  {
   "cell_type": "code",
   "execution_count": 356,
   "id": "b6c18371",
   "metadata": {},
   "outputs": [],
   "source": [
    "# with open(\"insert_loan_rate.cypher\", \"w\") as f:\n",
    "#     results_df = pd.read_csv('loan_interest_rate.csv')\n",
    "#     for _, row in results_df.iterrows():\n",
    "#         id = row['id']\n",
    "#         timestamps = row['rate_timestamps']\n",
    "#         values = row['rate_values']\n",
    "#         cypher = (\n",
    "#             f\"\"\"WITH RANGE(0, SIZE({timestamps}) - 1) AS idx \\\n",
    "#             MATCH (p:Loan {{loanId: {id}}}) \\\n",
    "#             WITH p, [i IN idx | DATETIME({timestamps}[i])] AS timestamps, \\\n",
    "#             [i IN idx | toFloat({values}[i])] AS values \\\n",
    "#             SET p.rate_timestamps = timestamps, p.rate_values = values;\"\"\"\n",
    "#         )\n",
    "#         # Prepare the parameters as string for documentation (not for Cypher execution)\n",
    "        \n",
    "#         f.write(f\"{cypher}\") \n"
   ]
  },
  {
   "cell_type": "code",
   "execution_count": 357,
   "id": "e3ec6d98",
   "metadata": {},
   "outputs": [],
   "source": [
    "# # Create index on rate_timestamps and rate_values\n",
    "# query = \"CREATE INDEX IF NOT EXISTS FOR (l:Loan) ON (l.rate_timestamps, l.rate_values)\"\n",
    "# driver.execute_query(query, database_=\"neo4j\", routing_=RoutingControl.WRITE)"
   ]
  },
  {
   "cell_type": "code",
   "execution_count": 358,
   "id": "e81eba31",
   "metadata": {},
   "outputs": [],
   "source": [
    "# query = \"\"\"\n",
    "# CALL apoc.periodic.iterate(\n",
    "#     'LOAD CSV WITH HEADERS FROM \"file:///sf1/snapshot/loan_interest_rate.csv\" AS row \n",
    "#         RETURN row',\n",
    "#     'MATCH (n:Loan {loanId: toInteger(row.id)}) \n",
    "#      SET n.rate_timestamps = [ts IN apoc.convert.fromJsonList(row.rate_timestamps) | datetime(ts)], \n",
    "#          n.rate_values = [val IN apoc.convert.fromJsonList(row.rate_values) | toFloat(val)]',\n",
    "#     {batchSize:1000, parallel:true}\n",
    "# )\n",
    "# \"\"\"\n",
    "\n",
    "# driver.execute_query(query, database_=\"neo4j\", routing_=RoutingControl.WRITE)\n"
   ]
  }
 ],
 "metadata": {
  "kernelspec": {
   "display_name": ".venv",
   "language": "python",
   "name": "python3"
  },
  "language_info": {
   "codemirror_mode": {
    "name": "ipython",
    "version": 3
   },
   "file_extension": ".py",
   "mimetype": "text/x-python",
   "name": "python",
   "nbconvert_exporter": "python",
   "pygments_lexer": "ipython3",
   "version": "3.9.6"
  }
 },
 "nbformat": 4,
 "nbformat_minor": 5
}
