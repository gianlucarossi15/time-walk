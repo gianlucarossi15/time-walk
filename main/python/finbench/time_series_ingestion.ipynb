{
 "cells": [
  {
   "cell_type": "code",
   "execution_count": 348,
   "id": "18c85c53",
   "metadata": {},
   "outputs": [],
   "source": [
    "import pandas as pd\n",
    "from balance_generation import simulate_balance_by_account_level\n",
    "from interest_rate_generation import simulate_interest_rate\n",
    "from shutil import copy"
   ]
  },
  {
   "cell_type": "code",
   "execution_count": 362,
   "id": "914208d4",
   "metadata": {},
   "outputs": [
    {
     "name": "stdout",
     "output_type": "stream",
     "text": [
      "10000\n"
     ]
    },
    {
     "data": {
      "text/plain": [
       "'/Users/gianluca/neo4j-enterprise-5.26.12/import/sf1/snapshot/account_balances.csv'"
      ]
     },
     "execution_count": 362,
     "metadata": {},
     "output_type": "execute_result"
    }
   ],
   "source": [
    "neo4j_path = '/Users/gianluca/neo4j-enterprise-5.26.12/'\n",
    "dataset = \"sf0.01\"\n",
    "records_df = pd.DataFrame()\n",
    "if dataset == \"sf0.01\":\n",
    "    records_df = pd.read_csv(f'{neo4j_path}import/sf0.01/snapshot/Account.csv', sep='|')[:2000]\n",
    "elif dataset == \"sf0.1\":\n",
    "    records_df = pd.read_csv(f'{neo4j_path}import/sf0.1/snapshot/Account.csv', sep='|')[:4000]\n",
    "elif dataset == \"sf0.3\":\n",
    "    records_df = pd.read_csv(f'{neo4j_path}import/sf0.3/snapshot/Account.csv', sep='|')[:6000]\n",
    "elif dataset == \"sf1\":\n",
    "    records_df = pd.read_csv(f'{neo4j_path}import/sf1/snapshot/Account.csv', sep='|')[:10000]\n",
    "\n",
    "records_df['createTime'] = pd.to_datetime(records_df['createTime'].astype(str), format='mixed', errors='coerce').dt.date\n",
    "\n",
    "results = []\n",
    "for _, row in records_df.iterrows():\n",
    "    ts = simulate_balance_by_account_level(level=row['accountLevel'], start_date=row['createTime'])\n",
    "    # Extract timestamps and values as separate lists\n",
    "    timestamps = [item[0].strftime(\"%Y-%m-%dT%H:%M:%S\") if item[0].tzinfo else item[0].strftime(\"%Y-%m-%dT%H:%M:%S\") + \"+0000\" for item in ts]\n",
    "\n",
    "    # Only convert to float if item[1] is a number, otherwise keep as is\n",
    "    values = [round(float(item[1]),3) if isinstance(item[1], (int, float)) else item[1] for item in ts]\n",
    "    results.append({\n",
    "        'id': row['accountId'],\n",
    "        'balance_timestamps': timestamps,\n",
    "        'balance_values': values\n",
    "    })\n",
    "\n",
    "# Convert results to DataFrame and write to CSV\n",
    "results_df = pd.DataFrame(results)\n",
    "results_df.to_csv('account_balances.csv', index=False)\n",
    "print(len(results_df))\n",
    "# Copy the CSV file to the desired location\n",
    "copy('account_balances.csv', f'{neo4j_path}import/{dataset}/snapshot/account_balances.csv')\n",
    "\n"
   ]
  }
 ],
 "metadata": {
  "kernelspec": {
   "display_name": ".venv",
   "language": "python",
   "name": "python3"
  },
  "language_info": {
   "codemirror_mode": {
    "name": "ipython",
    "version": 3
   },
   "file_extension": ".py",
   "mimetype": "text/x-python",
   "name": "python",
   "nbconvert_exporter": "python",
   "pygments_lexer": "ipython3",
   "version": "3.9.6"
  }
 },
 "nbformat": 4,
 "nbformat_minor": 5
}
